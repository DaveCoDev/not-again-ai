{
 "cells": [
  {
   "cell_type": "markdown",
   "metadata": {},
   "source": [
    "# Base not-again-ai contains various helper functions\n",
    "\n",
    "Ranging from file system operations to parallelization.\n"
   ]
  },
  {
   "cell_type": "markdown",
   "metadata": {},
   "source": [
    "## File System\n"
   ]
  },
  {
   "cell_type": "code",
   "execution_count": 1,
   "metadata": {},
   "outputs": [],
   "source": [
    "import shutil\n",
    "\n",
    "from not_again_ai.base.file_system import create_file_dir\n",
    "\n",
    "# Create a directory and its parent directories for a specified Path.\n",
    "create_file_dir(\"test/test.txt\")\n",
    "\n",
    "# Cleanup the directory.\n",
    "shutil.rmtree(\"test\")"
   ]
  },
  {
   "cell_type": "code",
   "execution_count": 2,
   "metadata": {},
   "outputs": [
    {
     "data": {
      "text/plain": [
       "'1.07 KB'"
      ]
     },
     "execution_count": 2,
     "metadata": {},
     "output_type": "execute_result"
    }
   ],
   "source": [
    "from not_again_ai.base.file_system import readable_size\n",
    "\n",
    "# Convert a size in bytes to a human-readable format.\n",
    "readable_size(1099)  # 1.07 KB"
   ]
  },
  {
   "cell_type": "markdown",
   "metadata": {},
   "source": [
    "## Parallelization\n"
   ]
  },
  {
   "cell_type": "code",
   "execution_count": 3,
   "metadata": {},
   "outputs": [
    {
     "data": {
      "text/plain": [
       "[8, 2]"
      ]
     },
     "execution_count": 3,
     "metadata": {},
     "output_type": "execute_result"
    }
   ],
   "source": [
    "from not_again_ai.base.parallel import embarrassingly_parallel_simple\n",
    "\n",
    "\n",
    "# embarrassingly_parallel_simple allows you to execute a list of functions (that take no arguments) in parallel and returns the results in the order the functions were provided.\n",
    "def do_something() -> int:\n",
    "    return 8\n",
    "\n",
    "\n",
    "def do_something2() -> int:\n",
    "    return 2\n",
    "\n",
    "\n",
    "result = embarrassingly_parallel_simple([do_something, do_something2], num_processes=2)\n",
    "result  # [8, 2]"
   ]
  },
  {
   "cell_type": "code",
   "execution_count": 4,
   "metadata": {},
   "outputs": [
    {
     "data": {
      "text/plain": [
       "[4, 9, 16]"
      ]
     },
     "execution_count": 4,
     "metadata": {},
     "output_type": "execute_result"
    }
   ],
   "source": [
    "import multiprocessing\n",
    "import random\n",
    "import time\n",
    "\n",
    "from not_again_ai.base.parallel import embarrassingly_parallel\n",
    "\n",
    "\n",
    "# Simulate a function that takes some time\n",
    "def multby2(x: float, y: float) -> float:\n",
    "    time.sleep(random.uniform(0, 1))\n",
    "    return x * y\n",
    "\n",
    "\n",
    "args = ((2, 2), (3, 3), (4, 4))\n",
    "result = embarrassingly_parallel(multby2, args, None, num_processes=multiprocessing.cpu_count())\n",
    "result"
   ]
  }
 ],
 "metadata": {
  "kernelspec": {
   "display_name": ".venv",
   "language": "python",
   "name": "python3"
  },
  "language_info": {
   "codemirror_mode": {
    "name": "ipython",
    "version": 3
   },
   "file_extension": ".py",
   "mimetype": "text/x-python",
   "name": "python",
   "nbconvert_exporter": "python",
   "pygments_lexer": "ipython3",
   "version": "3.12.3"
  }
 },
 "nbformat": 4,
 "nbformat_minor": 2
}
