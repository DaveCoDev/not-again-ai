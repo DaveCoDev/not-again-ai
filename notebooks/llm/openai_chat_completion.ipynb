{
 "cells": [
  {
   "cell_type": "markdown",
   "metadata": {},
   "source": [
    "# Using OpenAI Chat Completions\n",
    "\n",
    "This notebook covers how to use the Chat Completions API and other features such as creating prompts and function calling."
   ]
  },
  {
   "cell_type": "markdown",
   "metadata": {},
   "source": [
    "## Instantiating the OpenAI Client\n",
    "\n",
    "The OpenAI client object is used to get responses from the API. This will automatically read your API and org key from your environment variables.\n",
    "\n",
    "You can optionally pass in your API key and org key as arguments: `api_key` and `organization`.\n"
   ]
  },
  {
   "cell_type": "code",
   "execution_count": 1,
   "metadata": {},
   "outputs": [],
   "source": [
    "from not_again_ai.llm.openai_api.openai_client import openai_client\n",
    "\n",
    "client = openai_client()"
   ]
  },
  {
   "cell_type": "markdown",
   "metadata": {},
   "source": [
    "## Basic Chat Completion\n",
    "\n",
    "The `chat_completion` function is an easy way to get responses from OpenAI models. \n",
    "It requires the prompt to the model to be formatted in the chat completion format, \n",
    "see the [API reference](https://platform.openai.com/docs/api-reference/chat/create) for more details."
   ]
  },
  {
   "cell_type": "code",
   "execution_count": 2,
   "metadata": {},
   "outputs": [
    {
     "data": {
      "text/plain": [
       "'Hello! How can I assist you today?'"
      ]
     },
     "execution_count": 2,
     "metadata": {},
     "output_type": "execute_result"
    }
   ],
   "source": [
    "from not_again_ai.llm.openai_api.chat_completion import chat_completion\n",
    "\n",
    "messages = [{\"role\": \"system\", \"content\": \"You are a helpful assistant.\"}, {\"role\": \"user\", \"content\": \"Hello!\"}]\n",
    "response = chat_completion(messages=messages, model=\"gpt-3.5-turbo\", max_tokens=100, client=client)\n",
    "\n",
    "response[\"message\"]"
   ]
  },
  {
   "cell_type": "markdown",
   "metadata": {},
   "source": [
    "## Creating Prompts\n",
    "\n",
    "Injecting variables into prompts is a common task and we provide the `chat_prompt` which uses [Liquid templating](https://jg-rp.github.io/liquid/).\n",
    "\n",
    "In the `messages_unformatted` argument, the \"content\" field can be a [Python Liquid](https://jg-rp.github.io/liquid/introduction/getting-started) template string to allow for more dynamic prompts which not only supports variable injection, but also conditional logic, loops, and comments.\n"
   ]
  },
  {
   "cell_type": "code",
   "execution_count": 3,
   "metadata": {},
   "outputs": [
    {
     "data": {
      "text/plain": [
       "[{'role': 'system',\n",
       "  'content': '- You are a helpful assistant trying to extract places that occur in a given text.\\n- You must identify all the places in the text and return them in a list like this: [\"place1\", \"place2\", \"place3\"].'},\n",
       " {'role': 'user',\n",
       "  'content': 'Here is the text I want you to extract places from:\\nI went to Paris and Berlin.'}]"
      ]
     },
     "execution_count": 3,
     "metadata": {},
     "output_type": "execute_result"
    }
   ],
   "source": [
    "from not_again_ai.llm.openai_api.prompts import chat_prompt\n",
    "\n",
    "place_extraction_prompt = [\n",
    "    {\n",
    "        \"role\": \"system\",\n",
    "        \"content\": \"\"\"- You are a helpful assistant trying to extract places that occur in a given text.\n",
    "- You must identify all the places in the text and return them in a list like this: [\"place1\", \"place2\", \"place3\"].\"\"\",\n",
    "    },\n",
    "    {\n",
    "        \"role\": \"user\",\n",
    "        \"content\": \"\"\"Here is the text I want you to extract places from:\n",
    "{%- # The user's input text goes below %}\n",
    "{{text}}\"\"\",\n",
    "    },\n",
    "]\n",
    "\n",
    "variables = {\n",
    "    \"text\": \"I went to Paris and Berlin.\",\n",
    "}\n",
    "\n",
    "messages = chat_prompt(messages_unformatted=place_extraction_prompt, variables=variables)\n",
    "messages"
   ]
  },
  {
   "cell_type": "markdown",
   "metadata": {},
   "source": [
    "## Token Management\n",
    "\n",
    "While the OpenAI chat completion will return the tokens used, the `num_tokens_from_messages` helper can be used to compute the number of tokens used in a list of messages before calling the API.\n",
    "\n",
    "NOTE: This function not support counting tokens used by function calling."
   ]
  },
  {
   "cell_type": "code",
   "execution_count": 4,
   "metadata": {},
   "outputs": [
    {
     "name": "stdout",
     "output_type": "stream",
     "text": [
      "78\n"
     ]
    }
   ],
   "source": [
    "from not_again_ai.llm.openai_api.tokens import num_tokens_from_messages\n",
    "\n",
    "num_tokens = num_tokens_from_messages(messages=messages, model=\"gpt-3.5-turbo\")\n",
    "print(num_tokens)"
   ]
  },
  {
   "cell_type": "markdown",
   "metadata": {},
   "source": [
    "## Chat Completion with Function Calling and other Parameters\n",
    "The `chat_completion` function can also be used to call functions in the prompt and a myriad of other commonly used parameters like temperature, max_tokens, and logprobs. See the docstring for more details.\n",
    "\n",
    "See the [gpt-4-v.ipynb](gpt-4-v.ipynb) for full details on how to use the vision features of `chat_completion` and `chat_prompt`."
   ]
  },
  {
   "cell_type": "code",
   "execution_count": 5,
   "metadata": {},
   "outputs": [
    {
     "data": {
      "text/plain": [
       "{'choices': [{'finish_reason': 'stop',\n",
       "   'message': None,\n",
       "   'tool_names': ['get_current_weather'],\n",
       "   'tool_args_list': [{'location': 'Boston, MA', 'format': 'celsius'}]},\n",
       "  {'finish_reason': 'stop',\n",
       "   'message': None,\n",
       "   'tool_names': ['get_current_weather'],\n",
       "   'tool_args_list': [{'location': 'Boston, MA', 'format': 'celsius'}]}],\n",
       " 'completion_tokens': 40,\n",
       " 'prompt_tokens': 105}"
      ]
     },
     "execution_count": 5,
     "metadata": {},
     "output_type": "execute_result"
    }
   ],
   "source": [
    "# Define a tool to get the current weather\n",
    "tools = [\n",
    "    {\n",
    "        \"type\": \"function\",\n",
    "        \"function\": {\n",
    "            \"name\": \"get_current_weather\",\n",
    "            \"description\": \"Get the current weather\",\n",
    "            \"parameters\": {\n",
    "                \"type\": \"object\",\n",
    "                \"properties\": {\n",
    "                    \"location\": {\n",
    "                        \"type\": \"string\",\n",
    "                        \"description\": \"The city and state, e.g. San Francisco, CA\",\n",
    "                    },\n",
    "                    \"format\": {\n",
    "                        \"type\": \"string\",\n",
    "                        \"enum\": [\"celsius\", \"fahrenheit\"],\n",
    "                        \"description\": \"The temperature unit to use. Infer this from the users location.\",\n",
    "                    },\n",
    "                },\n",
    "                \"required\": [\"location\", \"format\"],\n",
    "            },\n",
    "        },\n",
    "    },\n",
    "]\n",
    "# Ask the model to call the function\n",
    "messages = [\n",
    "    {\n",
    "        \"role\": \"user\",\n",
    "        \"content\": \"What's the current weather like in {{ city_state }} today? Call the get_current_weather function.\",\n",
    "    }\n",
    "]\n",
    "\n",
    "messages = chat_prompt(messages_unformatted=messages, variables={\"city_state\": \"Boston, MA\"})\n",
    "\n",
    "client = openai_client()\n",
    "\n",
    "response = chat_completion(\n",
    "    messages=messages,\n",
    "    model=\"gpt-3.5-turbo-0125\",\n",
    "    client=client,\n",
    "    tools=tools,\n",
    "    tool_choice=\"required\",  # Force the model to use the tool\n",
    "    max_tokens=300,\n",
    "    temperature=0,\n",
    "    logprobs=(True, 2),  # logprobs=(True, 2) returns the log probabilities of the top 2 tokens\n",
    "    seed=42,  # Set the seed for reproducibility. The API will also return a `system_fingerprint` field to monitor changes in the backend.\n",
    "    n=2,  # Generate 2 completions at once\n",
    ")\n",
    "response"
   ]
  }
 ],
 "metadata": {
  "kernelspec": {
   "display_name": ".venv",
   "language": "python",
   "name": "python3"
  },
  "language_info": {
   "codemirror_mode": {
    "name": "ipython",
    "version": 3
   },
   "file_extension": ".py",
   "mimetype": "text/x-python",
   "name": "python",
   "nbconvert_exporter": "python",
   "pygments_lexer": "ipython3",
   "version": "3.11.4"
  }
 },
 "nbformat": 4,
 "nbformat_minor": 2
}
