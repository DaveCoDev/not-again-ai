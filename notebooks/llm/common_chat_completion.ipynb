{
 "cells": [
  {
   "cell_type": "markdown",
   "metadata": {},
   "source": [
    "# Common Chat Completion\n",
    "\n",
    "This notebook covers not-again-ai's common abstraction around multiple chat completion model providers. \n",
    "\n",
    "Currently the supported providers are the [OpenAI API](https://openai.com/api) and [Ollama](https://github.com/ollama/ollama)."
   ]
  },
  {
   "cell_type": "markdown",
   "metadata": {},
   "source": [
    "## Choosing a Client"
   ]
  },
  {
   "cell_type": "code",
   "execution_count": 1,
   "metadata": {},
   "outputs": [],
   "source": [
    "from not_again_ai.llm.ollama.ollama_client import ollama_client\n",
    "from not_again_ai.llm.openai_api.openai_client import openai_client\n",
    "\n",
    "client_openai = openai_client()\n",
    "client_ollama = ollama_client()"
   ]
  },
  {
   "cell_type": "markdown",
   "metadata": {},
   "source": [
    "## Define common variables we can try sending to different provider/model combinations."
   ]
  },
  {
   "cell_type": "code",
   "execution_count": 2,
   "metadata": {},
   "outputs": [],
   "source": [
    "messages = [\n",
    "    {\"role\": \"system\", \"content\": \"You are a helpful assistant.\"},\n",
    "    {\n",
    "        \"role\": \"user\",\n",
    "        \"content\": \"Generate a random number between 0 and 100 and structure the response in using JSON.\",\n",
    "    },\n",
    "]\n",
    "\n",
    "max_tokens = 200\n",
    "temperature = 2\n",
    "json_mode = True"
   ]
  },
  {
   "cell_type": "markdown",
   "metadata": {},
   "source": [
    "## Use the OpenAI Client"
   ]
  },
  {
   "cell_type": "code",
   "execution_count": 3,
   "metadata": {},
   "outputs": [
    {
     "data": {
      "text/plain": [
       "{'message': {'randomNumber': 57},\n",
       " 'completion_tokens': 10,\n",
       " 'extras': {'prompt_tokens': 35, 'finish_reason': 'stop'}}"
      ]
     },
     "execution_count": 3,
     "metadata": {},
     "output_type": "execute_result"
    }
   ],
   "source": [
    "from not_again_ai.llm.chat_completion import chat_completion\n",
    "\n",
    "chat_completion(\n",
    "    messages=messages,\n",
    "    model=\"gpt-3.5-turbo\",\n",
    "    client=client_openai,\n",
    "    max_tokens=max_tokens,\n",
    "    temperature=temperature,\n",
    "    json_mode=json_mode,\n",
    ")"
   ]
  },
  {
   "cell_type": "markdown",
   "metadata": {},
   "source": [
    "Use the Ollama Client"
   ]
  },
  {
   "cell_type": "code",
   "execution_count": 4,
   "metadata": {},
   "outputs": [
    {
     "data": {
      "text/plain": [
       "{'message': {'random_number': 47},\n",
       " 'completion_tokens': None,\n",
       " 'extras': {'response_duration': None}}"
      ]
     },
     "execution_count": 4,
     "metadata": {},
     "output_type": "execute_result"
    }
   ],
   "source": [
    "chat_completion(\n",
    "    messages=messages,\n",
    "    model=\"phi3\",\n",
    "    client=client_ollama,\n",
    "    max_tokens=max_tokens,\n",
    "    temperature=temperature,\n",
    "    json_mode=json_mode,\n",
    ")"
   ]
  }
 ],
 "metadata": {
  "kernelspec": {
   "display_name": ".venv",
   "language": "python",
   "name": "python3"
  },
  "language_info": {
   "codemirror_mode": {
    "name": "ipython",
    "version": 3
   },
   "file_extension": ".py",
   "mimetype": "text/x-python",
   "name": "python",
   "nbconvert_exporter": "python",
   "pygments_lexer": "ipython3",
   "version": "3.11.4"
  }
 },
 "nbformat": 4,
 "nbformat_minor": 2
}
