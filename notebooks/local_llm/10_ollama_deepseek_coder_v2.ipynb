{
 "cells": [
  {
   "cell_type": "markdown",
   "metadata": {},
   "source": [
    "## Ollama - DeepSeek-Coder-V2\n",
    "\n",
    "In this notebook, we show an example of using DeepSeek-Coder-V2 to solve a coding problem, that was copied over from the HumanEval dataset."
   ]
  },
  {
   "cell_type": "code",
   "execution_count": 1,
   "metadata": {},
   "outputs": [],
   "source": [
    "from not_again_ai.local_llm.chat_completion import chat_completion\n",
    "from not_again_ai.local_llm.ollama.ollama_client import ollama_client\n",
    "from not_again_ai.local_llm.prompts import chat_prompt\n",
    "from not_again_ai.local_llm.tokens import load_tokenizer, num_tokens_from_messages\n",
    "\n",
    "client = ollama_client()\n",
    "\n",
    "MODEL_NAME = \"deepseek-coder-v2:16b\""
   ]
  },
  {
   "cell_type": "code",
   "execution_count": 2,
   "metadata": {},
   "outputs": [
    {
     "name": "stdout",
     "output_type": "stream",
     "text": [
      "Number of tokens from messages: 172\n"
     ]
    }
   ],
   "source": [
    "FUNCTION_HEADER = '''\\\n",
    "def correct_bracketing(brackets: str):\n",
    "    \"\"\"brackets is a string of \"(\" and \")\". return True if every opening bracket has a corresponding closing bracket. \n",
    "    >>> correct_bracketing(\"(\") False >>> correct_bracketing(\"()\") True \n",
    "    >>> correct_bracketing(\"(()())\") True \n",
    "    >>> correct_bracketing(\")(()\") False\"\"\"'''\n",
    "\n",
    "\n",
    "messages_unformatted = [\n",
    "    {\n",
    "        \"role\": \"system\",\n",
    "        \"content\": \"\"\"You are writing high-quality and accurate Python code. \n",
    "You have a function header with a docstring and your goal is to implement the function such that it passes the test cases given in the docstring.\n",
    "Denote your code with triple backticks (```) and write the code inside the code block. Include the function header and the function implementation.\"\"\",\n",
    "    },\n",
    "    {\n",
    "        \"role\": \"user\",\n",
    "        \"content\": \"\"\"{{FUNCTION_HEADER}}\n",
    "\n",
    "# Implement the function\"\"\",\n",
    "    },\n",
    "]\n",
    "\n",
    "messages = chat_prompt(messages_unformatted, {\"FUNCTION_HEADER\": FUNCTION_HEADER})\n",
    "\n",
    "# Count the number of tokens in the messages\n",
    "tokenizer = load_tokenizer(model=MODEL_NAME, provider=\"ollama\")\n",
    "num_tokens = num_tokens_from_messages(messages, tokenizer=tokenizer, provider=\"ollama\")\n",
    "print(f\"Number of tokens from messages: {num_tokens}\")"
   ]
  },
  {
   "cell_type": "code",
   "execution_count": 3,
   "metadata": {},
   "outputs": [
    {
     "name": "stdout",
     "output_type": "stream",
     "text": [
      "GENERATED RESPONSE:\n",
      " ```python\n",
      "def correct_bracketing(brackets: str):\n",
      "    \"\"\"brackets is a string of \"(\" and \")\". Return True if every opening bracket has a corresponding closing bracket.\n",
      "    \n",
      "    >>> correct_bracketing(\"(\") \n",
      "    False \n",
      "    >>> correct_bracketing(\"()\") \n",
      "    True \n",
      "    >>> correct_bracketing(\"(()())\") \n",
      "    True \n",
      "    >>> correct_bracketing(\")(()\") \n",
      "    False\n",
      "    \"\"\"\n",
      "    stack = []\n",
      "    for bracket in brackets:\n",
      "        if bracket == '(':\n",
      "            stack.append(bracket)\n",
      "        elif bracket == ')':\n",
      "            if not stack:\n",
      "                return False\n",
      "            stack.pop()\n",
      "    return len(stack) == 0\n",
      "```\n"
     ]
    }
   ],
   "source": [
    "response = chat_completion(messages, model=MODEL_NAME, client=client)\n",
    "print(f'GENERATED RESPONSE:\\n{response[\"message\"]}')"
   ]
  }
 ],
 "metadata": {
  "kernelspec": {
   "display_name": ".venv",
   "language": "python",
   "name": "python3"
  },
  "language_info": {
   "codemirror_mode": {
    "name": "ipython",
    "version": 3
   },
   "file_extension": ".py",
   "mimetype": "text/x-python",
   "name": "python",
   "nbconvert_exporter": "python",
   "pygments_lexer": "ipython3",
   "version": "3.11.4"
  }
 },
 "nbformat": 4,
 "nbformat_minor": 2
}
